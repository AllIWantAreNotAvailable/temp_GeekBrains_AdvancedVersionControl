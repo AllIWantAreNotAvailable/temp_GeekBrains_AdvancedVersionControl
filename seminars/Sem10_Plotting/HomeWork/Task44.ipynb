{
 "cells": [
  {
   "cell_type": "markdown",
   "source": [
    "# Задача №44:\n",
    "\n",
    ">В ячейке ниже представлен код генерирующий DataFrame, которая состоит всего из 1 столбца. Ваша задача перевести его в one hot вид. Сможете ли вы это сделать без get_dummies?"
   ],
   "metadata": {
    "collapsed": false
   }
  },
  {
   "cell_type": "code",
   "execution_count": 3,
   "outputs": [],
   "source": [
    "import pandas, seaborn, random"
   ],
   "metadata": {
    "collapsed": false,
    "ExecuteTime": {
     "start_time": "2023-04-13T16:54:30.051151Z",
     "end_time": "2023-04-13T16:54:30.059148Z"
    }
   }
  },
  {
   "cell_type": "code",
   "execution_count": 4,
   "outputs": [
    {
     "data": {
      "text/plain": "   who_am_i\n0     robot\n1     robot\n2     robot\n3     robot\n4     human\n5     human\n6     human\n7     robot\n8     robot\n9     robot\n10    human\n11    robot\n12    human\n13    human\n14    robot\n15    human\n16    robot\n17    human\n18    human\n19    human",
      "text/html": "<div>\n<style scoped>\n    .dataframe tbody tr th:only-of-type {\n        vertical-align: middle;\n    }\n\n    .dataframe tbody tr th {\n        vertical-align: top;\n    }\n\n    .dataframe thead th {\n        text-align: right;\n    }\n</style>\n<table border=\"1\" class=\"dataframe\">\n  <thead>\n    <tr style=\"text-align: right;\">\n      <th></th>\n      <th>who_am_i</th>\n    </tr>\n  </thead>\n  <tbody>\n    <tr>\n      <th>0</th>\n      <td>robot</td>\n    </tr>\n    <tr>\n      <th>1</th>\n      <td>robot</td>\n    </tr>\n    <tr>\n      <th>2</th>\n      <td>robot</td>\n    </tr>\n    <tr>\n      <th>3</th>\n      <td>robot</td>\n    </tr>\n    <tr>\n      <th>4</th>\n      <td>human</td>\n    </tr>\n    <tr>\n      <th>5</th>\n      <td>human</td>\n    </tr>\n    <tr>\n      <th>6</th>\n      <td>human</td>\n    </tr>\n    <tr>\n      <th>7</th>\n      <td>robot</td>\n    </tr>\n    <tr>\n      <th>8</th>\n      <td>robot</td>\n    </tr>\n    <tr>\n      <th>9</th>\n      <td>robot</td>\n    </tr>\n    <tr>\n      <th>10</th>\n      <td>human</td>\n    </tr>\n    <tr>\n      <th>11</th>\n      <td>robot</td>\n    </tr>\n    <tr>\n      <th>12</th>\n      <td>human</td>\n    </tr>\n    <tr>\n      <th>13</th>\n      <td>human</td>\n    </tr>\n    <tr>\n      <th>14</th>\n      <td>robot</td>\n    </tr>\n    <tr>\n      <th>15</th>\n      <td>human</td>\n    </tr>\n    <tr>\n      <th>16</th>\n      <td>robot</td>\n    </tr>\n    <tr>\n      <th>17</th>\n      <td>human</td>\n    </tr>\n    <tr>\n      <th>18</th>\n      <td>human</td>\n    </tr>\n    <tr>\n      <th>19</th>\n      <td>human</td>\n    </tr>\n  </tbody>\n</table>\n</div>"
     },
     "execution_count": 4,
     "metadata": {},
     "output_type": "execute_result"
    }
   ],
   "source": [
    "source_list = ['robot'] * 10 + ['human'] * 10\n",
    "random.shuffle(source_list)\n",
    "data_frame = pandas.DataFrame({'who_am_i': source_list})\n",
    "data_frame.head(n=20)"
   ],
   "metadata": {
    "collapsed": false,
    "ExecuteTime": {
     "start_time": "2023-04-13T16:54:30.578799Z",
     "end_time": "2023-04-13T16:54:30.587657Z"
    }
   }
  },
  {
   "cell_type": "markdown",
   "source": [
    "## Решение:"
   ],
   "metadata": {
    "collapsed": false
   }
  },
  {
   "cell_type": "code",
   "execution_count": 5,
   "outputs": [
    {
     "data": {
      "text/plain": "   who_am_i  i_am_robot  i_am_human\n0     robot         1.0         0.0\n1     robot         1.0         0.0\n2     robot         1.0         0.0\n3     robot         1.0         0.0\n4     human         0.0         1.0\n5     human         0.0         1.0\n6     human         0.0         1.0\n7     robot         1.0         0.0\n8     robot         1.0         0.0\n9     robot         1.0         0.0\n10    human         0.0         1.0\n11    robot         1.0         0.0\n12    human         0.0         1.0\n13    human         0.0         1.0\n14    robot         1.0         0.0\n15    human         0.0         1.0\n16    robot         1.0         0.0\n17    human         0.0         1.0\n18    human         0.0         1.0\n19    human         0.0         1.0",
      "text/html": "<div>\n<style scoped>\n    .dataframe tbody tr th:only-of-type {\n        vertical-align: middle;\n    }\n\n    .dataframe tbody tr th {\n        vertical-align: top;\n    }\n\n    .dataframe thead th {\n        text-align: right;\n    }\n</style>\n<table border=\"1\" class=\"dataframe\">\n  <thead>\n    <tr style=\"text-align: right;\">\n      <th></th>\n      <th>who_am_i</th>\n      <th>i_am_robot</th>\n      <th>i_am_human</th>\n    </tr>\n  </thead>\n  <tbody>\n    <tr>\n      <th>0</th>\n      <td>robot</td>\n      <td>1.0</td>\n      <td>0.0</td>\n    </tr>\n    <tr>\n      <th>1</th>\n      <td>robot</td>\n      <td>1.0</td>\n      <td>0.0</td>\n    </tr>\n    <tr>\n      <th>2</th>\n      <td>robot</td>\n      <td>1.0</td>\n      <td>0.0</td>\n    </tr>\n    <tr>\n      <th>3</th>\n      <td>robot</td>\n      <td>1.0</td>\n      <td>0.0</td>\n    </tr>\n    <tr>\n      <th>4</th>\n      <td>human</td>\n      <td>0.0</td>\n      <td>1.0</td>\n    </tr>\n    <tr>\n      <th>5</th>\n      <td>human</td>\n      <td>0.0</td>\n      <td>1.0</td>\n    </tr>\n    <tr>\n      <th>6</th>\n      <td>human</td>\n      <td>0.0</td>\n      <td>1.0</td>\n    </tr>\n    <tr>\n      <th>7</th>\n      <td>robot</td>\n      <td>1.0</td>\n      <td>0.0</td>\n    </tr>\n    <tr>\n      <th>8</th>\n      <td>robot</td>\n      <td>1.0</td>\n      <td>0.0</td>\n    </tr>\n    <tr>\n      <th>9</th>\n      <td>robot</td>\n      <td>1.0</td>\n      <td>0.0</td>\n    </tr>\n    <tr>\n      <th>10</th>\n      <td>human</td>\n      <td>0.0</td>\n      <td>1.0</td>\n    </tr>\n    <tr>\n      <th>11</th>\n      <td>robot</td>\n      <td>1.0</td>\n      <td>0.0</td>\n    </tr>\n    <tr>\n      <th>12</th>\n      <td>human</td>\n      <td>0.0</td>\n      <td>1.0</td>\n    </tr>\n    <tr>\n      <th>13</th>\n      <td>human</td>\n      <td>0.0</td>\n      <td>1.0</td>\n    </tr>\n    <tr>\n      <th>14</th>\n      <td>robot</td>\n      <td>1.0</td>\n      <td>0.0</td>\n    </tr>\n    <tr>\n      <th>15</th>\n      <td>human</td>\n      <td>0.0</td>\n      <td>1.0</td>\n    </tr>\n    <tr>\n      <th>16</th>\n      <td>robot</td>\n      <td>1.0</td>\n      <td>0.0</td>\n    </tr>\n    <tr>\n      <th>17</th>\n      <td>human</td>\n      <td>0.0</td>\n      <td>1.0</td>\n    </tr>\n    <tr>\n      <th>18</th>\n      <td>human</td>\n      <td>0.0</td>\n      <td>1.0</td>\n    </tr>\n    <tr>\n      <th>19</th>\n      <td>human</td>\n      <td>0.0</td>\n      <td>1.0</td>\n    </tr>\n  </tbody>\n</table>\n</div>"
     },
     "execution_count": 5,
     "metadata": {},
     "output_type": "execute_result"
    }
   ],
   "source": [
    "data_frame.loc[data_frame['who_am_i'] == 'robot', ['i_am_robot', 'i_am_human']] = [1, 0]\n",
    "data_frame.loc[data_frame['who_am_i'] == 'human', ['i_am_human', 'i_am_robot']] = [1, 0]\n",
    "data_frame.head(n=20)"
   ],
   "metadata": {
    "collapsed": false,
    "ExecuteTime": {
     "start_time": "2023-04-13T16:54:32.103526Z",
     "end_time": "2023-04-13T16:54:32.106043Z"
    }
   }
  },
  {
   "cell_type": "code",
   "execution_count": 6,
   "outputs": [
    {
     "data": {
      "text/plain": "<Axes: >"
     },
     "execution_count": 6,
     "metadata": {},
     "output_type": "execute_result"
    },
    {
     "data": {
      "text/plain": "<Figure size 640x480 with 2 Axes>",
      "image/png": "[encoded data removed]"
     },
     "metadata": {},
     "output_type": "display_data"
    }
   ],
   "source": [
    "seaborn.heatmap(data_frame[['i_am_robot', 'i_am_human']])"
   ],
   "metadata": {
    "collapsed": false,
    "ExecuteTime": {
     "start_time": "2023-04-13T16:54:33.176995Z",
     "end_time": "2023-04-13T16:54:33.497781Z"
    }
   }
  }
 ],
 "metadata": {
  "kernelspec": {
   "display_name": "Python 3",
   "language": "python",
   "name": "python3"
  },
  "language_info": {
   "codemirror_mode": {
    "name": "ipython",
    "version": 2
   },
   "file_extension": ".py",
   "mimetype": "text/x-python",
   "name": "python",
   "nbconvert_exporter": "python",
   "pygments_lexer": "ipython2",
   "version": "2.7.6"
  }
 },
 "nbformat": 4,
 "nbformat_minor": 0
}
