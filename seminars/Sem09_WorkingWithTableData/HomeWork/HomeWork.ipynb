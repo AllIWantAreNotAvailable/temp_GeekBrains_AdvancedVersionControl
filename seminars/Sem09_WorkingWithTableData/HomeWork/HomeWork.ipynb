{
 "cells": [
  {
   "cell_type": "code",
   "execution_count": 2,
   "metadata": {
    "collapsed": true,
    "ExecuteTime": {
     "start_time": "2023-04-07T22:40:34.793559Z",
     "end_time": "2023-04-07T22:40:34.797018Z"
    }
   },
   "outputs": [],
   "source": [
    "import pandas"
   ]
  },
  {
   "cell_type": "code",
   "execution_count": 3,
   "outputs": [],
   "source": [
    "data_frame = pandas.read_csv('sample_data/california_housing_train.csv')"
   ],
   "metadata": {
    "collapsed": false,
    "ExecuteTime": {
     "start_time": "2023-04-07T22:48:44.128196Z",
     "end_time": "2023-04-07T22:48:44.162074Z"
    }
   }
  },
  {
   "cell_type": "markdown",
   "source": [
    "# Задача №40:\n",
    "Работать с файлом california_housing_train.csv, который находится в папке sample_data.\n",
    "Определить среднюю стоимость дома, где кол-во людей от 0 до 500 (population)"
   ],
   "metadata": {
    "collapsed": false
   }
  },
  {
   "cell_type": "code",
   "execution_count": 6,
   "outputs": [
    {
     "data": {
      "text/plain": "169500.0"
     },
     "execution_count": 6,
     "metadata": {},
     "output_type": "execute_result"
    }
   ],
   "source": [
    "data_frame[data_frame['population'] <= 500]['median_house_value'].median()"
   ],
   "metadata": {
    "collapsed": false,
    "ExecuteTime": {
     "start_time": "2023-04-07T22:53:25.030411Z",
     "end_time": "2023-04-07T22:53:25.036715Z"
    }
   }
  },
  {
   "cell_type": "markdown",
   "source": [
    "# Задача №42:\n",
    "Узнать какая максимальная households в зоне минимального значения population"
   ],
   "metadata": {
    "collapsed": false
   }
  },
  {
   "cell_type": "code",
   "execution_count": 8,
   "outputs": [
    {
     "data": {
      "text/plain": "4.0"
     },
     "execution_count": 8,
     "metadata": {},
     "output_type": "execute_result"
    }
   ],
   "source": [
    "data_frame[data_frame['population'] == data_frame['population'].min()]['households'].max()"
   ],
   "metadata": {
    "collapsed": false,
    "ExecuteTime": {
     "start_time": "2023-04-07T23:28:39.924423Z",
     "end_time": "2023-04-07T23:28:39.930379Z"
    }
   }
  }
 ],
 "metadata": {
  "kernelspec": {
   "display_name": "Python 3",
   "language": "python",
   "name": "python3"
  },
  "language_info": {
   "codemirror_mode": {
    "name": "ipython",
    "version": 2
   },
   "file_extension": ".py",
   "mimetype": "text/x-python",
   "name": "python",
   "nbconvert_exporter": "python",
   "pygments_lexer": "ipython2",
   "version": "2.7.6"
  }
 },
 "nbformat": 4,
 "nbformat_minor": 0
}
