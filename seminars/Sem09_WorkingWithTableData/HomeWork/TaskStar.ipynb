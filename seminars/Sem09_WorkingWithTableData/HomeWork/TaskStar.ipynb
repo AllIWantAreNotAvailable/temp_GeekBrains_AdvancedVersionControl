{
 "cells": [
  {
   "cell_type": "code",
   "execution_count": 259,
   "outputs": [],
   "source": [
    "import pandas\n",
    "import numpy"
   ],
   "metadata": {
    "collapsed": false,
    "ExecuteTime": {
     "start_time": "2023-04-10T20:15:44.834426Z",
     "end_time": "2023-04-10T20:15:44.948913Z"
    }
   }
  },
  {
   "cell_type": "markdown",
   "source": [
    "# Задачи по pandas"
   ],
   "metadata": {
    "collapsed": false
   }
  },
  {
   "cell_type": "markdown",
   "source": [
    "## Задача №1:\n",
    "Найти евклидово расстояние между двумя Series (точками) a и b, не используя встроенную формулу."
   ],
   "metadata": {
    "collapsed": false
   }
  },
  {
   "cell_type": "code",
   "execution_count": 260,
   "outputs": [],
   "source": [
    "first_series = pandas.Series([2, 4, 6, 8])\n",
    "second_series = pandas.Series([1, 3, 5, 7])"
   ],
   "metadata": {
    "collapsed": false,
    "ExecuteTime": {
     "start_time": "2023-04-10T20:15:44.848411Z",
     "end_time": "2023-04-10T20:15:45.036057Z"
    }
   }
  },
  {
   "cell_type": "markdown",
   "source": [
    "### Решение:\n",
    "> Для проверки решения используем функцию NumPy."
   ],
   "metadata": {
    "collapsed": false
   }
  },
  {
   "cell_type": "code",
   "execution_count": 261,
   "outputs": [
    {
     "name": "stdout",
     "output_type": "stream",
     "text": [
      "\t- Контрольное значение: 2.0;\n",
      "\t- Результат вычисления: 2.0.\n"
     ]
    }
   ],
   "source": [
    "using_numpy = numpy.linalg.norm(first_series - second_series)\n",
    "without_numpy = sum((first_series - second_series) ** 2) ** .5\n",
    "print(f'\\t- Контрольное значение: {using_numpy};\\n\\t- Результат вычисления: {without_numpy}.')"
   ],
   "metadata": {
    "collapsed": false,
    "ExecuteTime": {
     "start_time": "2023-04-10T20:15:44.856350Z",
     "end_time": "2023-04-10T20:15:45.037335Z"
    }
   }
  },
  {
   "cell_type": "markdown",
   "source": [
    "## Задача №2:\n",
    "Найти максимально возможное абсолютное значение корреляции каждого столбца с другими столбцами в df.\n",
    "\n",
    "Ввод:"
   ],
   "metadata": {
    "collapsed": false
   }
  },
  {
   "cell_type": "code",
   "execution_count": 262,
   "outputs": [
    {
     "name": "stdout",
     "output_type": "stream",
     "text": [
      "    a   b   c   d\n",
      "1  80   5  47   7\n",
      "2  39  55  70   3\n",
      "3  60  50  44  53\n",
      "4  60   5  35  63\n"
     ]
    }
   ],
   "source": [
    "data_frame = pandas.DataFrame(numpy.random.randint(1, 100, 16).reshape(4, 4), columns=list('abcd'), index=list('1234'))\n",
    "print(data_frame)"
   ],
   "metadata": {
    "collapsed": false,
    "ExecuteTime": {
     "start_time": "2023-04-10T20:15:44.862803Z",
     "end_time": "2023-04-10T20:15:45.039254Z"
    }
   }
  },
  {
   "cell_type": "markdown",
   "source": [
    "### Решение:"
   ],
   "metadata": {
    "collapsed": false
   }
  },
  {
   "cell_type": "code",
   "execution_count": 263,
   "outputs": [
    {
     "name": "stdout",
     "output_type": "stream",
     "text": [
      "Максимальное значение корреляции для каждого столбца:\n",
      "                   a     b     c     d\n",
      "max(abs(corr))  0.74  0.74  0.79  0.79\n"
     ]
    }
   ],
   "source": [
    "abs_corr = numpy.abs(data_frame.corr())\n",
    "max_corr = abs_corr.apply(lambda field: sorted(field)[-2])\n",
    "rounded_list = numpy.round(max_corr.tolist(), 2)\n",
    "result = pandas.DataFrame(rounded_list.reshape(1, 4), index=['max(abs(corr))'], columns=data_frame.columns)\n",
    "print(f'Максимальное значение корреляции для каждого столбца:\\n{result}')\n"
   ],
   "metadata": {
    "collapsed": false,
    "ExecuteTime": {
     "start_time": "2023-04-10T20:15:44.882008Z",
     "end_time": "2023-04-10T20:15:45.051468Z"
    }
   }
  },
  {
   "cell_type": "markdown",
   "source": [
    "## Задача №3:\n",
    "Нормализуйте все столбцы df путём вычитания среднего значения столбца и деления на стандартное отклонение.\n",
    "Сделайте так, чтобы все значения в df находились в диапазоне от 0 до 1.\n",
    "\n",
    "Ввод:"
   ],
   "metadata": {
    "collapsed": false
   }
  },
  {
   "cell_type": "code",
   "execution_count": 264,
   "outputs": [
    {
     "name": "stdout",
     "output_type": "stream",
     "text": [
      "    a   b   c   d\n",
      "1   3  89  59  72\n",
      "2  51  27  79  40\n",
      "3  67  76  87  37\n",
      "4  93   6  10  61\n"
     ]
    }
   ],
   "source": [
    "data_frame = pandas.DataFrame(numpy.random.randint(1, 100, 16).reshape(4, 4), index=list('1234'), columns=list('abcd'))\n",
    "print(data_frame)"
   ],
   "metadata": {
    "collapsed": false,
    "ExecuteTime": {
     "start_time": "2023-04-10T20:15:44.892932Z",
     "end_time": "2023-04-10T20:15:45.052675Z"
    }
   }
  },
  {
   "cell_type": "markdown",
   "source": [
    "### Решение:\n",
    "\n",
    "#### Часть 1-я:"
   ],
   "metadata": {
    "collapsed": false
   }
  },
  {
   "cell_type": "code",
   "execution_count": 265,
   "outputs": [
    {
     "name": "stdout",
     "output_type": "stream",
     "text": [
      "      a     b     c     d\n",
      "1 -1.33  1.00  0.01  1.16\n",
      "2 -0.07 -0.57  0.59 -0.74\n",
      "3  0.36  0.67  0.82 -0.92\n",
      "4  1.04 -1.10 -1.41  0.51\n"
     ]
    }
   ],
   "source": [
    "first_result = data_frame.apply(lambda field: ((field - field.mean()) / field.std()).round(2))\n",
    "print(first_result)"
   ],
   "metadata": {
    "collapsed": false,
    "ExecuteTime": {
     "start_time": "2023-04-10T20:15:44.910710Z",
     "end_time": "2023-04-10T20:15:45.055663Z"
    }
   }
  },
  {
   "cell_type": "markdown",
   "source": [
    "#### Часть 2-я:"
   ],
   "metadata": {
    "collapsed": false
   }
  },
  {
   "cell_type": "code",
   "execution_count": 266,
   "outputs": [
    {
     "name": "stdout",
     "output_type": "stream",
     "text": [
      "Вторая часть\n",
      "       a     b     c     d\n",
      "1  1.00  0.00  0.36  0.00\n",
      "2  0.47  0.75  0.10  0.91\n",
      "3  0.29  0.16  0.00  1.00\n",
      "4  0.00  1.00  1.00  0.31\n"
     ]
    }
   ],
   "source": [
    "second_result = data_frame.apply(lambda field: ((field.max() - field) / (field.max() - field.min())).round(2))\n",
    "print('Вторая часть\\n', second_result)"
   ],
   "metadata": {
    "collapsed": false,
    "ExecuteTime": {
     "start_time": "2023-04-10T20:15:44.927498Z",
     "end_time": "2023-04-10T20:15:45.063255Z"
    }
   }
  },
  {
   "cell_type": "markdown",
   "source": [
    "## Задача №4:\n",
    "\n",
    "Объедините df1 и df2 по столбцам fruit-frukt и weight-ves.\n",
    "\n",
    "Ввод:"
   ],
   "metadata": {
    "collapsed": false
   }
  },
  {
   "cell_type": "code",
   "execution_count": 267,
   "outputs": [
    {
     "name": "stdout",
     "output_type": "stream",
     "text": [
      "df1:\n",
      "    fruit  weight  price\n",
      "0   apple     low     81\n",
      "1  banana  medium     64\n",
      "2  orange    high     14\n",
      "3   apple     low     48\n",
      "4  banana  medium     24\n",
      "5  orange    high     86\n",
      "6   apple     low     80\n",
      "7  banana  medium     24\n",
      "8  orange    high     55\n",
      "\n",
      " df2:\n",
      "    frukt   ves  price\n",
      "0   apple   low     22\n",
      "1  banana  high      6\n",
      "2   melon   low     61\n",
      "3   apple  high     86\n",
      "4  banana   low     28\n",
      "5   melon  high      2\n"
     ]
    }
   ],
   "source": [
    "first_source = pandas.DataFrame({'fruit': ['apple', 'banana', 'orange'] * 3,\n",
    "                                 'weight': ['low', 'medium', 'high'] * 3,\n",
    "                                 'price': numpy.random.randint(0, 100, 9)})\n",
    "\n",
    "second_source = pandas.DataFrame({'frukt': ['apple', 'banana', 'melon'] * 2,\n",
    "                                  'ves': ['low', 'high'] * 3,\n",
    "                                  'price': numpy.random.randint(0, 100, 6)})\n",
    "print(f'df1:\\n{first_source}\\n\\n df2:\\n{second_source}')"
   ],
   "metadata": {
    "collapsed": false,
    "ExecuteTime": {
     "start_time": "2023-04-10T20:15:44.943018Z",
     "end_time": "2023-04-10T20:15:45.064307Z"
    }
   }
  },
  {
   "cell_type": "markdown",
   "source": [
    "### Решение:"
   ],
   "metadata": {
    "collapsed": false
   }
  },
  {
   "cell_type": "code",
   "execution_count": 268,
   "outputs": [
    {
     "name": "stdout",
     "output_type": "stream",
     "text": [
      "   fruit weight  price_df1  frukt  ves  price_df2\n",
      "0  apple    low         81  apple  low         22\n",
      "1  apple    low         48  apple  low         22\n",
      "2  apple    low         80  apple  low         22\n"
     ]
    }
   ],
   "source": [
    "result = pandas.merge(first_source, second_source, how=\"inner\", left_on=['fruit', 'weight'], right_on=['frukt', 'ves'],\n",
    "                      suffixes=('_df1', '_df2'))\n",
    "print(result)"
   ],
   "metadata": {
    "collapsed": false,
    "ExecuteTime": {
     "start_time": "2023-04-10T20:15:44.959612Z",
     "end_time": "2023-04-10T20:15:45.068287Z"
    }
   }
  },
  {
   "cell_type": "markdown",
   "source": [
    "## Задача №5:\n",
    "Узнать частоту уникальных значений во всём DataFrame.\n",
    "\n",
    "Ввод:"
   ],
   "metadata": {
    "collapsed": false
   }
  },
  {
   "cell_type": "code",
   "execution_count": 269,
   "outputs": [
    {
     "name": "stdout",
     "output_type": "stream",
     "text": [
      "   a  b  c  d\n",
      "1  7  9  4  7\n",
      "2  6  4  1  3\n",
      "3  8  4  5  5\n",
      "4  2  7  8  2\n"
     ]
    }
   ],
   "source": [
    "data_frame = pandas.DataFrame(numpy.random.randint(1, 10, 16).reshape(4, 4), columns=list('abcd'), index=list('1234'))\n",
    "print(data_frame)"
   ],
   "metadata": {
    "collapsed": false,
    "ExecuteTime": {
     "start_time": "2023-04-10T20:15:44.962983Z",
     "end_time": "2023-04-10T20:15:45.068482Z"
    }
   }
  },
  {
   "cell_type": "markdown",
   "source": [
    "### Решение:"
   ],
   "metadata": {
    "collapsed": false
   }
  },
  {
   "cell_type": "code",
   "execution_count": 270,
   "outputs": [
    {
     "name": "stdout",
     "output_type": "stream",
     "text": [
      "9    1\n",
      "6    1\n",
      "1    1\n",
      "3    1\n",
      "8    2\n",
      "5    2\n",
      "2    2\n",
      "7    3\n",
      "4    3\n",
      "Name: count, dtype: int64\n"
     ]
    }
   ],
   "source": [
    "frequency = pandas.value_counts(data_frame.values.ravel()).sort_values()\n",
    "print(frequency)"
   ],
   "metadata": {
    "collapsed": false,
    "ExecuteTime": {
     "start_time": "2023-04-10T20:15:44.977803Z",
     "end_time": "2023-04-10T20:15:45.068597Z"
    }
   }
  },
  {
   "cell_type": "markdown",
   "source": [
    "## Задача №6:\n",
    "Создать новый столбец, который содержит номера ближайших по евклидовому расстоянию столбцов.\n",
    "\n",
    "Ввод:"
   ],
   "metadata": {
    "collapsed": false
   }
  },
  {
   "cell_type": "code",
   "execution_count": 271,
   "outputs": [
    {
     "name": "stdout",
     "output_type": "stream",
     "text": [
      "    a   b   c   d\n",
      "1  55  42   3  85\n",
      "2  92   2  13  50\n",
      "3  31  65  67  97\n",
      "4  71  94  84  69\n"
     ]
    }
   ],
   "source": [
    "data_frame = pandas.DataFrame(numpy.random.randint(1, 100, 16).reshape(4, 4), columns=list('abcd'), index=list('1234'))\n",
    "print(data_frame)"
   ],
   "metadata": {
    "collapsed": false,
    "ExecuteTime": {
     "start_time": "2023-04-10T20:15:44.987867Z",
     "end_time": "2023-04-10T20:15:45.068703Z"
    }
   }
  },
  {
   "cell_type": "markdown",
   "source": [
    "Ожидаемый результат:"
   ],
   "metadata": {
    "collapsed": false
   }
  },
  {
   "cell_type": "code",
   "execution_count": 272,
   "outputs": [
    {
     "name": "stdout",
     "output_type": "stream",
     "text": [
      "    e   f   g   h row   dist\n",
      "a  51  57  11  15   c  122.0\n",
      "b  63   5  81  48   a   94.0\n",
      "c   7  63  98  88   a  122.0\n",
      "d   6  31  29  37   c   92.0\n"
     ]
    }
   ],
   "source": [
    "expected = pandas.DataFrame({'e': [51, 63, 7, 6],\n",
    "                             'f': [57, 5, 63, 31],\n",
    "                             'g': [11, 81, 98, 29],\n",
    "                             'h': [15, 48, 88, 37],\n",
    "                             'row': ['c', 'a', 'a', 'c'],\n",
    "                             'dist': [122.0, 94.0, 122.0, 92.0]\n",
    "                             },\n",
    "                            index=list('abcd')\n",
    "                            )\n",
    "print(expected)"
   ],
   "metadata": {
    "collapsed": false,
    "ExecuteTime": {
     "start_time": "2023-04-10T20:15:44.991412Z",
     "end_time": "2023-04-10T20:15:45.068809Z"
    }
   }
  },
  {
   "cell_type": "markdown",
   "source": [
    "### Решение:"
   ],
   "metadata": {
    "collapsed": false
   }
  },
  {
   "cell_type": "code",
   "execution_count": 273,
   "outputs": [
    {
     "name": "stdout",
     "output_type": "stream",
     "text": [
      "    a   b   c   d row  dist\n",
      "1  55  42   3  85   2  66.0\n",
      "2  92   2  13  50   1  66.0\n",
      "3  31  65  67  97   4  59.0\n",
      "4  71  94  84  69   3  59.0\n"
     ]
    }
   ],
   "source": [
    "nearest_row = list()\n",
    "nearest_dist = list()\n",
    "\n",
    "for index, row in data_frame.iterrows():\n",
    "    nearest = dict()\n",
    "    for temp, remaining in (rest := data_frame.drop(index)).iterrows():\n",
    "        nearest.update({temp: numpy.round(numpy.linalg.norm(row.values - remaining.values))})\n",
    "    # Может я не до конца понимаю предмет задачи, но в условии \"номера ближайших\",\n",
    "    # почему в эталонном решении max()...\n",
    "    nearest_row.append(min(nearest, key=nearest.get))\n",
    "    nearest_dist.append(min(nearest.values()))\n",
    "\n",
    "data_frame['row'] = nearest_row\n",
    "data_frame['dist'] = nearest_dist\n",
    "\n",
    "print(data_frame)"
   ],
   "metadata": {
    "collapsed": false,
    "ExecuteTime": {
     "start_time": "2023-04-10T20:15:45.021470Z",
     "end_time": "2023-04-10T20:15:45.068929Z"
    }
   }
  },
  {
   "cell_type": "markdown",
   "source": [
    "# Задачи по NumPy"
   ],
   "metadata": {
    "collapsed": false
   }
  },
  {
   "cell_type": "markdown",
   "source": [
    "## Задача №7:\n",
    "Как поменять местами две строки в двумерном массиве NumPy? Поменяйте местами строки 1 и 3 массива a.\n",
    "\n",
    "Ввод:"
   ],
   "metadata": {
    "collapsed": false
   }
  },
  {
   "cell_type": "code",
   "execution_count": 274,
   "outputs": [
    {
     "name": "stdout",
     "output_type": "stream",
     "text": [
      "[[0 1 2]\n",
      " [3 4 5]\n",
      " [6 7 8]]\n",
      "\n"
     ]
    }
   ],
   "source": [
    "array = numpy.arange(9).reshape(3,3)\n",
    "print(array, end='\\n\\n')"
   ],
   "metadata": {
    "collapsed": false,
    "ExecuteTime": {
     "start_time": "2023-04-10T20:15:45.031073Z",
     "end_time": "2023-04-10T20:15:45.069037Z"
    }
   }
  },
  {
   "cell_type": "code",
   "execution_count": 276,
   "outputs": [
    {
     "name": "stdout",
     "output_type": "stream",
     "text": [
      "[[6 7 8]\n",
      " [3 4 5]\n",
      " [6 7 8]]\n",
      "\n",
      "[[6 7 8]\n",
      " [3 4 5]\n",
      " [0 1 2]]\n"
     ]
    }
   ],
   "source": [
    "temp_a = array.copy()\n",
    "\n",
    "# Классический подход\n",
    "temp = temp_a[-1]\n",
    "temp_a[0] = temp_a [-1]\n",
    "temp_a[-1] = temp\n",
    "print(temp_a, end='\\n\\n')\n",
    "\n",
    "# Эталон:\n",
    "var = array[[2, 1, 0], :]\n",
    "print(var)"
   ],
   "metadata": {
    "collapsed": false,
    "ExecuteTime": {
     "start_time": "2023-04-10T21:40:25.871645Z",
     "end_time": "2023-04-10T21:40:25.879520Z"
    }
   }
  }
 ],
 "metadata": {
  "kernelspec": {
   "display_name": "Python 3",
   "language": "python",
   "name": "python3"
  },
  "language_info": {
   "codemirror_mode": {
    "name": "ipython",
    "version": 2
   },
   "file_extension": ".py",
   "mimetype": "text/x-python",
   "name": "python",
   "nbconvert_exporter": "python",
   "pygments_lexer": "ipython2",
   "version": "2.7.6"
  }
 },
 "nbformat": 4,
 "nbformat_minor": 0
}
